{
 "cells": [
  {
   "cell_type": "markdown",
   "metadata": {},
   "source": [
    "Script to perform exploratory data analysis on the Indicators of Heart\n",
    "Disease dataset. Before anything else, the data must be loaded and split\n",
    "into training and testing sets. The training set will be used to create the\n",
    "ideas and hypotheses, while the testing set will be used to validate them."
   ]
  },
  {
   "cell_type": "code",
   "execution_count": 38,
   "metadata": {},
   "outputs": [],
   "source": [
    "import pandas as pd"
   ]
  },
  {
   "cell_type": "code",
   "execution_count": 39,
   "metadata": {},
   "outputs": [],
   "source": [
    "def load_data():\n",
    "    \"\"\"Load the Indicators of Heart Disease dataset\"\"\"\n",
    "    df_train = pd.read_csv('../data/heart_train.csv')\n",
    "    return df_train"
   ]
  },
  {
   "cell_type": "code",
   "execution_count": 40,
   "metadata": {},
   "outputs": [],
   "source": [
    "data = load_data()"
   ]
  },
  {
   "cell_type": "code",
   "execution_count": 41,
   "metadata": {},
   "outputs": [
    {
     "data": {
      "text/html": [
       "<div>\n",
       "<style scoped>\n",
       "    .dataframe tbody tr th:only-of-type {\n",
       "        vertical-align: middle;\n",
       "    }\n",
       "\n",
       "    .dataframe tbody tr th {\n",
       "        vertical-align: top;\n",
       "    }\n",
       "\n",
       "    .dataframe thead th {\n",
       "        text-align: right;\n",
       "    }\n",
       "</style>\n",
       "<table border=\"1\" class=\"dataframe\">\n",
       "  <thead>\n",
       "    <tr style=\"text-align: right;\">\n",
       "      <th></th>\n",
       "      <th>State</th>\n",
       "      <th>Sex</th>\n",
       "      <th>GeneralHealth</th>\n",
       "      <th>PhysicalHealthDays</th>\n",
       "      <th>MentalHealthDays</th>\n",
       "      <th>LastCheckupTime</th>\n",
       "      <th>PhysicalActivities</th>\n",
       "      <th>SleepHours</th>\n",
       "      <th>RemovedTeeth</th>\n",
       "      <th>HadHeartAttack</th>\n",
       "      <th>...</th>\n",
       "      <th>HeightInMeters</th>\n",
       "      <th>WeightInKilograms</th>\n",
       "      <th>BMI</th>\n",
       "      <th>AlcoholDrinkers</th>\n",
       "      <th>HIVTesting</th>\n",
       "      <th>FluVaxLast12</th>\n",
       "      <th>PneumoVaxEver</th>\n",
       "      <th>TetanusLast10Tdap</th>\n",
       "      <th>HighRiskLastYear</th>\n",
       "      <th>CovidPos</th>\n",
       "    </tr>\n",
       "  </thead>\n",
       "  <tbody>\n",
       "    <tr>\n",
       "      <th>0</th>\n",
       "      <td>Utah</td>\n",
       "      <td>Female</td>\n",
       "      <td>Very good</td>\n",
       "      <td>0.0</td>\n",
       "      <td>0.0</td>\n",
       "      <td>Within past 5 years (2 years but less than 5 y...</td>\n",
       "      <td>Yes</td>\n",
       "      <td>7.0</td>\n",
       "      <td>None of them</td>\n",
       "      <td>No</td>\n",
       "      <td>...</td>\n",
       "      <td>1.60</td>\n",
       "      <td>51.71</td>\n",
       "      <td>20.19</td>\n",
       "      <td>Yes</td>\n",
       "      <td>Yes</td>\n",
       "      <td>Yes</td>\n",
       "      <td>No</td>\n",
       "      <td>Yes, received Tdap</td>\n",
       "      <td>No</td>\n",
       "      <td>No</td>\n",
       "    </tr>\n",
       "    <tr>\n",
       "      <th>1</th>\n",
       "      <td>District of Columbia</td>\n",
       "      <td>Female</td>\n",
       "      <td>Fair</td>\n",
       "      <td>4.0</td>\n",
       "      <td>0.0</td>\n",
       "      <td>Within past year (anytime less than 12 months ...</td>\n",
       "      <td>No</td>\n",
       "      <td>8.0</td>\n",
       "      <td>6 or more, but not all</td>\n",
       "      <td>No</td>\n",
       "      <td>...</td>\n",
       "      <td>1.60</td>\n",
       "      <td>54.43</td>\n",
       "      <td>21.26</td>\n",
       "      <td>No</td>\n",
       "      <td>No</td>\n",
       "      <td>No</td>\n",
       "      <td>Yes</td>\n",
       "      <td>NaN</td>\n",
       "      <td>No</td>\n",
       "      <td>No</td>\n",
       "    </tr>\n",
       "    <tr>\n",
       "      <th>2</th>\n",
       "      <td>Washington</td>\n",
       "      <td>Male</td>\n",
       "      <td>Good</td>\n",
       "      <td>1.0</td>\n",
       "      <td>1.0</td>\n",
       "      <td>Within past year (anytime less than 12 months ...</td>\n",
       "      <td>Yes</td>\n",
       "      <td>9.0</td>\n",
       "      <td>None of them</td>\n",
       "      <td>No</td>\n",
       "      <td>...</td>\n",
       "      <td>1.70</td>\n",
       "      <td>88.45</td>\n",
       "      <td>30.54</td>\n",
       "      <td>Yes</td>\n",
       "      <td>Yes</td>\n",
       "      <td>Yes</td>\n",
       "      <td>Yes</td>\n",
       "      <td>Yes, received tetanus shot but not sure what type</td>\n",
       "      <td>No</td>\n",
       "      <td>Tested positive using home test without a heal...</td>\n",
       "    </tr>\n",
       "    <tr>\n",
       "      <th>3</th>\n",
       "      <td>Wisconsin</td>\n",
       "      <td>Female</td>\n",
       "      <td>Good</td>\n",
       "      <td>0.0</td>\n",
       "      <td>0.0</td>\n",
       "      <td>Within past 5 years (2 years but less than 5 y...</td>\n",
       "      <td>No</td>\n",
       "      <td>9.0</td>\n",
       "      <td>6 or more, but not all</td>\n",
       "      <td>No</td>\n",
       "      <td>...</td>\n",
       "      <td>1.68</td>\n",
       "      <td>69.40</td>\n",
       "      <td>24.69</td>\n",
       "      <td>No</td>\n",
       "      <td>No</td>\n",
       "      <td>No</td>\n",
       "      <td>No</td>\n",
       "      <td>No, did not receive any tetanus shot in the pa...</td>\n",
       "      <td>No</td>\n",
       "      <td>No</td>\n",
       "    </tr>\n",
       "    <tr>\n",
       "      <th>4</th>\n",
       "      <td>Kansas</td>\n",
       "      <td>Male</td>\n",
       "      <td>Excellent</td>\n",
       "      <td>0.0</td>\n",
       "      <td>0.0</td>\n",
       "      <td>Within past year (anytime less than 12 months ...</td>\n",
       "      <td>Yes</td>\n",
       "      <td>8.0</td>\n",
       "      <td>1 to 5</td>\n",
       "      <td>No</td>\n",
       "      <td>...</td>\n",
       "      <td>1.75</td>\n",
       "      <td>108.86</td>\n",
       "      <td>35.44</td>\n",
       "      <td>No</td>\n",
       "      <td>No</td>\n",
       "      <td>Yes</td>\n",
       "      <td>Yes</td>\n",
       "      <td>No, did not receive any tetanus shot in the pa...</td>\n",
       "      <td>No</td>\n",
       "      <td>Yes</td>\n",
       "    </tr>\n",
       "  </tbody>\n",
       "</table>\n",
       "<p>5 rows × 40 columns</p>\n",
       "</div>"
      ],
      "text/plain": [
       "                  State     Sex GeneralHealth  PhysicalHealthDays  \\\n",
       "0                  Utah  Female     Very good                 0.0   \n",
       "1  District of Columbia  Female          Fair                 4.0   \n",
       "2            Washington    Male          Good                 1.0   \n",
       "3             Wisconsin  Female          Good                 0.0   \n",
       "4                Kansas    Male     Excellent                 0.0   \n",
       "\n",
       "   MentalHealthDays                                    LastCheckupTime  \\\n",
       "0               0.0  Within past 5 years (2 years but less than 5 y...   \n",
       "1               0.0  Within past year (anytime less than 12 months ...   \n",
       "2               1.0  Within past year (anytime less than 12 months ...   \n",
       "3               0.0  Within past 5 years (2 years but less than 5 y...   \n",
       "4               0.0  Within past year (anytime less than 12 months ...   \n",
       "\n",
       "  PhysicalActivities  SleepHours            RemovedTeeth HadHeartAttack  ...  \\\n",
       "0                Yes         7.0            None of them             No  ...   \n",
       "1                 No         8.0  6 or more, but not all             No  ...   \n",
       "2                Yes         9.0            None of them             No  ...   \n",
       "3                 No         9.0  6 or more, but not all             No  ...   \n",
       "4                Yes         8.0                  1 to 5             No  ...   \n",
       "\n",
       "  HeightInMeters WeightInKilograms    BMI AlcoholDrinkers HIVTesting  \\\n",
       "0           1.60             51.71  20.19             Yes        Yes   \n",
       "1           1.60             54.43  21.26              No         No   \n",
       "2           1.70             88.45  30.54             Yes        Yes   \n",
       "3           1.68             69.40  24.69              No         No   \n",
       "4           1.75            108.86  35.44              No         No   \n",
       "\n",
       "  FluVaxLast12 PneumoVaxEver  \\\n",
       "0          Yes            No   \n",
       "1           No           Yes   \n",
       "2          Yes           Yes   \n",
       "3           No            No   \n",
       "4          Yes           Yes   \n",
       "\n",
       "                                   TetanusLast10Tdap HighRiskLastYear  \\\n",
       "0                                 Yes, received Tdap               No   \n",
       "1                                                NaN               No   \n",
       "2  Yes, received tetanus shot but not sure what type               No   \n",
       "3  No, did not receive any tetanus shot in the pa...               No   \n",
       "4  No, did not receive any tetanus shot in the pa...               No   \n",
       "\n",
       "                                            CovidPos  \n",
       "0                                                 No  \n",
       "1                                                 No  \n",
       "2  Tested positive using home test without a heal...  \n",
       "3                                                 No  \n",
       "4                                                Yes  \n",
       "\n",
       "[5 rows x 40 columns]"
      ]
     },
     "execution_count": 41,
     "metadata": {},
     "output_type": "execute_result"
    }
   ],
   "source": [
    "data.head()"
   ]
  },
  {
   "cell_type": "code",
   "execution_count": 42,
   "metadata": {},
   "outputs": [
    {
     "name": "stdout",
     "output_type": "stream",
     "text": [
      "<class 'pandas.core.frame.DataFrame'>\n",
      "RangeIndex: 356105 entries, 0 to 356104\n",
      "Data columns (total 40 columns):\n",
      " #   Column                     Non-Null Count   Dtype  \n",
      "---  ------                     --------------   -----  \n",
      " 0   State                      356105 non-null  object \n",
      " 1   Sex                        356105 non-null  object \n",
      " 2   GeneralHealth              355168 non-null  object \n",
      " 3   PhysicalHealthDays         347414 non-null  float64\n",
      " 4   MentalHealthDays           348848 non-null  float64\n",
      " 5   LastCheckupTime            349508 non-null  object \n",
      " 6   PhysicalActivities         355234 non-null  object \n",
      " 7   SleepHours                 351756 non-null  float64\n",
      " 8   RemovedTeeth               347063 non-null  object \n",
      " 9   HadHeartAttack             353632 non-null  object \n",
      " 10  HadAngina                  352578 non-null  object \n",
      " 11  HadStroke                  354855 non-null  object \n",
      " 12  HadAsthma                  354698 non-null  object \n",
      " 13  HadSkinCancer              353562 non-null  object \n",
      " 14  HadCOPD                    354362 non-null  object \n",
      " 15  HadDepressiveDisorder      353885 non-null  object \n",
      " 16  HadKidneyDisease           354586 non-null  object \n",
      " 17  HadArthritis               354018 non-null  object \n",
      " 18  HadDiabetes                355240 non-null  object \n",
      " 19  DeafOrHardOfHearing        339703 non-null  object \n",
      " 20  BlindOrVisionDifficulty    338962 non-null  object \n",
      " 21  DifficultyConcentrating    336829 non-null  object \n",
      " 22  DifficultyWalking          337035 non-null  object \n",
      " 23  DifficultyDressingBathing  337093 non-null  object \n",
      " 24  DifficultyErrands          335700 non-null  object \n",
      " 25  SmokerStatus               327831 non-null  object \n",
      " 26  ECigaretteUsage            327693 non-null  object \n",
      " 27  ChestScan                  311314 non-null  object \n",
      " 28  RaceEthnicityCategory      344829 non-null  object \n",
      " 29  AgeCategory                348871 non-null  object \n",
      " 30  HeightInMeters             333363 non-null  float64\n",
      " 31  WeightInKilograms          322538 non-null  float64\n",
      " 32  BMI                        317239 non-null  float64\n",
      " 33  AlcoholDrinkers            318968 non-null  object \n",
      " 34  HIVTesting                 303227 non-null  object \n",
      " 35  FluVaxLast12               318483 non-null  object \n",
      " 36  PneumoVaxEver              294517 non-null  object \n",
      " 37  TetanusLast10Tdap          290133 non-null  object \n",
      " 38  HighRiskLastYear           315668 non-null  object \n",
      " 39  CovidPos                   315549 non-null  object \n",
      "dtypes: float64(6), object(34)\n",
      "memory usage: 108.7+ MB\n"
     ]
    }
   ],
   "source": [
    "data.info()"
   ]
  },
  {
   "cell_type": "code",
   "execution_count": 43,
   "metadata": {},
   "outputs": [
    {
     "data": {
      "text/html": [
       "<div>\n",
       "<style scoped>\n",
       "    .dataframe tbody tr th:only-of-type {\n",
       "        vertical-align: middle;\n",
       "    }\n",
       "\n",
       "    .dataframe tbody tr th {\n",
       "        vertical-align: top;\n",
       "    }\n",
       "\n",
       "    .dataframe thead th {\n",
       "        text-align: right;\n",
       "    }\n",
       "</style>\n",
       "<table border=\"1\" class=\"dataframe\">\n",
       "  <thead>\n",
       "    <tr style=\"text-align: right;\">\n",
       "      <th></th>\n",
       "      <th>PhysicalHealthDays</th>\n",
       "      <th>MentalHealthDays</th>\n",
       "      <th>SleepHours</th>\n",
       "      <th>HeightInMeters</th>\n",
       "      <th>WeightInKilograms</th>\n",
       "      <th>BMI</th>\n",
       "    </tr>\n",
       "  </thead>\n",
       "  <tbody>\n",
       "    <tr>\n",
       "      <th>count</th>\n",
       "      <td>347414.000000</td>\n",
       "      <td>348848.000000</td>\n",
       "      <td>351756.000000</td>\n",
       "      <td>333363.000000</td>\n",
       "      <td>322538.000000</td>\n",
       "      <td>317239.000000</td>\n",
       "    </tr>\n",
       "    <tr>\n",
       "      <th>mean</th>\n",
       "      <td>4.353046</td>\n",
       "      <td>4.381794</td>\n",
       "      <td>7.021117</td>\n",
       "      <td>1.702585</td>\n",
       "      <td>83.074472</td>\n",
       "      <td>28.532016</td>\n",
       "    </tr>\n",
       "    <tr>\n",
       "      <th>std</th>\n",
       "      <td>8.695588</td>\n",
       "      <td>8.388430</td>\n",
       "      <td>1.503170</td>\n",
       "      <td>0.107053</td>\n",
       "      <td>21.455636</td>\n",
       "      <td>6.554786</td>\n",
       "    </tr>\n",
       "    <tr>\n",
       "      <th>min</th>\n",
       "      <td>0.000000</td>\n",
       "      <td>0.000000</td>\n",
       "      <td>1.000000</td>\n",
       "      <td>0.910000</td>\n",
       "      <td>22.680000</td>\n",
       "      <td>12.020000</td>\n",
       "    </tr>\n",
       "    <tr>\n",
       "      <th>25%</th>\n",
       "      <td>0.000000</td>\n",
       "      <td>0.000000</td>\n",
       "      <td>6.000000</td>\n",
       "      <td>1.630000</td>\n",
       "      <td>68.040000</td>\n",
       "      <td>24.130000</td>\n",
       "    </tr>\n",
       "    <tr>\n",
       "      <th>50%</th>\n",
       "      <td>0.000000</td>\n",
       "      <td>0.000000</td>\n",
       "      <td>7.000000</td>\n",
       "      <td>1.700000</td>\n",
       "      <td>80.740000</td>\n",
       "      <td>27.440000</td>\n",
       "    </tr>\n",
       "    <tr>\n",
       "      <th>75%</th>\n",
       "      <td>3.000000</td>\n",
       "      <td>5.000000</td>\n",
       "      <td>8.000000</td>\n",
       "      <td>1.780000</td>\n",
       "      <td>95.250000</td>\n",
       "      <td>31.750000</td>\n",
       "    </tr>\n",
       "    <tr>\n",
       "      <th>max</th>\n",
       "      <td>30.000000</td>\n",
       "      <td>30.000000</td>\n",
       "      <td>24.000000</td>\n",
       "      <td>2.410000</td>\n",
       "      <td>292.570000</td>\n",
       "      <td>99.640000</td>\n",
       "    </tr>\n",
       "  </tbody>\n",
       "</table>\n",
       "</div>"
      ],
      "text/plain": [
       "       PhysicalHealthDays  MentalHealthDays     SleepHours  HeightInMeters  \\\n",
       "count       347414.000000     348848.000000  351756.000000   333363.000000   \n",
       "mean             4.353046          4.381794       7.021117        1.702585   \n",
       "std              8.695588          8.388430       1.503170        0.107053   \n",
       "min              0.000000          0.000000       1.000000        0.910000   \n",
       "25%              0.000000          0.000000       6.000000        1.630000   \n",
       "50%              0.000000          0.000000       7.000000        1.700000   \n",
       "75%              3.000000          5.000000       8.000000        1.780000   \n",
       "max             30.000000         30.000000      24.000000        2.410000   \n",
       "\n",
       "       WeightInKilograms            BMI  \n",
       "count      322538.000000  317239.000000  \n",
       "mean           83.074472      28.532016  \n",
       "std            21.455636       6.554786  \n",
       "min            22.680000      12.020000  \n",
       "25%            68.040000      24.130000  \n",
       "50%            80.740000      27.440000  \n",
       "75%            95.250000      31.750000  \n",
       "max           292.570000      99.640000  "
      ]
     },
     "execution_count": 43,
     "metadata": {},
     "output_type": "execute_result"
    }
   ],
   "source": [
    "data.describe()"
   ]
  },
  {
   "cell_type": "code",
   "execution_count": 44,
   "metadata": {},
   "outputs": [
    {
     "data": {
      "text/plain": [
       "State                            0\n",
       "Sex                              0\n",
       "GeneralHealth                  937\n",
       "PhysicalHealthDays            8691\n",
       "MentalHealthDays              7257\n",
       "LastCheckupTime               6597\n",
       "PhysicalActivities             871\n",
       "SleepHours                    4349\n",
       "RemovedTeeth                  9042\n",
       "HadHeartAttack                2473\n",
       "HadAngina                     3527\n",
       "HadStroke                     1250\n",
       "HadAsthma                     1407\n",
       "HadSkinCancer                 2543\n",
       "HadCOPD                       1743\n",
       "HadDepressiveDisorder         2220\n",
       "HadKidneyDisease              1519\n",
       "HadArthritis                  2087\n",
       "HadDiabetes                    865\n",
       "DeafOrHardOfHearing          16402\n",
       "BlindOrVisionDifficulty      17143\n",
       "DifficultyConcentrating      19276\n",
       "DifficultyWalking            19070\n",
       "DifficultyDressingBathing    19012\n",
       "DifficultyErrands            20405\n",
       "SmokerStatus                 28274\n",
       "ECigaretteUsage              28412\n",
       "ChestScan                    44791\n",
       "RaceEthnicityCategory        11276\n",
       "AgeCategory                   7234\n",
       "HeightInMeters               22742\n",
       "WeightInKilograms            33567\n",
       "BMI                          38866\n",
       "AlcoholDrinkers              37137\n",
       "HIVTesting                   52878\n",
       "FluVaxLast12                 37622\n",
       "PneumoVaxEver                61588\n",
       "TetanusLast10Tdap            65972\n",
       "HighRiskLastYear             40437\n",
       "CovidPos                     40556\n",
       "dtype: int64"
      ]
     },
     "execution_count": 44,
     "metadata": {},
     "output_type": "execute_result"
    }
   ],
   "source": [
    "data.isnull().sum()"
   ]
  },
  {
   "cell_type": "code",
   "execution_count": 46,
   "metadata": {},
   "outputs": [],
   "source": [
    "# Write the columns to a text file\n",
    "with open('../data/columns.txt', 'w') as f:\n",
    "    for col in data.columns:\n",
    "        f.write(f'{col}\\n')"
   ]
  },
  {
   "cell_type": "markdown",
   "metadata": {},
   "source": [
    "# Analyzing each column"
   ]
  },
  {
   "cell_type": "markdown",
   "metadata": {},
   "source": [
    "## State"
   ]
  },
  {
   "cell_type": "code",
   "execution_count": 47,
   "metadata": {},
   "outputs": [
    {
     "data": {
      "text/plain": [
       "0.0"
      ]
     },
     "execution_count": 47,
     "metadata": {},
     "output_type": "execute_result"
    }
   ],
   "source": [
    "data[\"State\"].isna().sum() / len(data)"
   ]
  },
  {
   "cell_type": "code",
   "execution_count": 48,
   "metadata": {},
   "outputs": [
    {
     "data": {
      "text/plain": [
       "54"
      ]
     },
     "execution_count": 48,
     "metadata": {},
     "output_type": "execute_result"
    }
   ],
   "source": [
    "data[\"State\"].nunique()"
   ]
  },
  {
   "cell_type": "markdown",
   "metadata": {},
   "source": [
    "The State column doesn't have any missing values and has 54 unique values. This column is a categorical column."
   ]
  },
  {
   "cell_type": "markdown",
   "metadata": {},
   "source": [
    "## Sex"
   ]
  },
  {
   "cell_type": "code",
   "execution_count": 49,
   "metadata": {},
   "outputs": [
    {
     "data": {
      "text/plain": [
       "0.0"
      ]
     },
     "execution_count": 49,
     "metadata": {},
     "output_type": "execute_result"
    }
   ],
   "source": [
    "data[\"Sex\"].isna().sum()/len(data) * 100"
   ]
  },
  {
   "cell_type": "code",
   "execution_count": 50,
   "metadata": {},
   "outputs": [
    {
     "data": {
      "text/plain": [
       "Sex\n",
       "Female    0.530082\n",
       "Male      0.469918\n",
       "Name: proportion, dtype: float64"
      ]
     },
     "execution_count": 50,
     "metadata": {},
     "output_type": "execute_result"
    }
   ],
   "source": [
    "data[\"Sex\"].value_counts(normalize=True)"
   ]
  },
  {
   "cell_type": "markdown",
   "metadata": {},
   "source": [
    "The Sex column doesn't have any missing values and has 2 unique values. This column is a categorical column.\n",
    "Also, the proportion of males and females is not equal, but the difference is not that big."
   ]
  },
  {
   "cell_type": "markdown",
   "metadata": {},
   "source": [
    "## GeneralHealth"
   ]
  },
  {
   "cell_type": "code",
   "execution_count": 51,
   "metadata": {},
   "outputs": [
    {
     "data": {
      "text/plain": [
       "0.2631246402044341"
      ]
     },
     "execution_count": 51,
     "metadata": {},
     "output_type": "execute_result"
    }
   ],
   "source": [
    "data[\"GeneralHealth\"].isna().sum()/len(data) * 100"
   ]
  },
  {
   "cell_type": "code",
   "execution_count": 52,
   "metadata": {},
   "outputs": [
    {
     "data": {
      "text/plain": [
       "GeneralHealth\n",
       "Very good    0.334557\n",
       "Good         0.323512\n",
       "Excellent    0.161594\n",
       "Fair         0.135806\n",
       "Poor         0.044531\n",
       "Name: proportion, dtype: float64"
      ]
     },
     "execution_count": 52,
     "metadata": {},
     "output_type": "execute_result"
    }
   ],
   "source": [
    "data[\"GeneralHealth\"].value_counts(normalize=True)"
   ]
  },
  {
   "cell_type": "code",
   "execution_count": 53,
   "metadata": {},
   "outputs": [
    {
     "data": {
      "text/plain": [
       "<Axes: >"
      ]
     },
     "execution_count": 53,
     "metadata": {},
     "output_type": "execute_result"
    },
    {
     "data": {
      "image/png": "[encoded data removed]",
      "text/plain": [
       "<Figure size 640x480 with 1 Axes>"
      ]
     },
     "metadata": {},
     "output_type": "display_data"
    }
   ],
   "source": [
    "data[\"GeneralHealth\"].hist()"
   ]
  },
  {
   "cell_type": "markdown",
   "metadata": {},
   "source": [
    "The GeneralHealth column has missing values (0.26%) and has 5 unique values. This column is a categorical column. It's poor balanced, with the majority of the values being \"Good\", \"Very Good\" and \"Excellent\", which can be a problem for the model. The number of NAs is not that big, so we can consider removing them. For some models, it must be transformed into a numerical column."
   ]
  },
  {
   "cell_type": "markdown",
   "metadata": {},
   "source": [
    "## PhysicalHealthDays"
   ]
  },
  {
   "cell_type": "code",
   "execution_count": 54,
   "metadata": {},
   "outputs": [
    {
     "data": {
      "text/plain": [
       "2.440572303112846"
      ]
     },
     "execution_count": 54,
     "metadata": {},
     "output_type": "execute_result"
    }
   ],
   "source": [
    "data[\"PhysicalHealthDays\"].isna().sum() / len(data) * 100"
   ]
  },
  {
   "cell_type": "code",
   "execution_count": 55,
   "metadata": {},
   "outputs": [
    {
     "data": {
      "text/plain": [
       "<Axes: >"
      ]
     },
     "execution_count": 55,
     "metadata": {},
     "output_type": "execute_result"
    },
    {
     "data": {
      "image/png": "[encoded data removed]",
      "text/plain": [
       "<Figure size 640x480 with 1 Axes>"
      ]
     },
     "metadata": {},
     "output_type": "display_data"
    }
   ],
   "source": [
    "data[\"PhysicalHealthDays\"].hist()"
   ]
  },
  {
   "cell_type": "code",
   "execution_count": 56,
   "metadata": {},
   "outputs": [
    {
     "data": {
      "text/plain": [
       "PhysicalHealthDays\n",
       "0.0     0.616685\n",
       "30.0    0.076367\n",
       "2.0     0.058366\n",
       "1.0     0.039662\n",
       "3.0     0.036628\n",
       "5.0     0.034961\n",
       "10.0    0.024582\n",
       "7.0     0.021571\n",
       "15.0    0.019976\n",
       "4.0     0.019553\n",
       "20.0    0.012633\n",
       "14.0    0.011531\n",
       "6.0     0.005812\n",
       "25.0    0.004965\n",
       "8.0     0.004148\n",
       "12.0    0.002614\n",
       "21.0    0.002389\n",
       "28.0    0.001741\n",
       "9.0     0.000959\n",
       "29.0    0.000826\n",
       "18.0    0.000659\n",
       "16.0    0.000587\n",
       "27.0    0.000452\n",
       "17.0    0.000417\n",
       "13.0    0.000394\n",
       "22.0    0.000331\n",
       "11.0    0.000328\n",
       "24.0    0.000296\n",
       "26.0    0.000265\n",
       "23.0    0.000201\n",
       "19.0    0.000101\n",
       "Name: proportion, dtype: float64"
      ]
     },
     "execution_count": 56,
     "metadata": {},
     "output_type": "execute_result"
    }
   ],
   "source": [
    "data[\"PhysicalHealthDays\"].value_counts(normalize=True)"
   ]
  },
  {
   "cell_type": "markdown",
   "metadata": {},
   "source": [
    "The PhysicalHealthDays column has missing values (2.44%) and is discrete. This column has a high number of zeros, which can be a problem for the model. The number of NAs is not that big, so we can consider removing them."
   ]
  },
  {
   "cell_type": "markdown",
   "metadata": {},
   "source": [
    "## MentalHealthDays"
   ]
  },
  {
   "cell_type": "code",
   "execution_count": 57,
   "metadata": {},
   "outputs": [
    {
     "data": {
      "text/plain": [
       "2.037882085339998"
      ]
     },
     "execution_count": 57,
     "metadata": {},
     "output_type": "execute_result"
    }
   ],
   "source": [
    "data[\"MentalHealthDays\"].isna().sum() / len(data) * 100"
   ]
  },
  {
   "cell_type": "code",
   "execution_count": 58,
   "metadata": {},
   "outputs": [
    {
     "data": {
      "text/plain": [
       "<Axes: >"
      ]
     },
     "execution_count": 58,
     "metadata": {},
     "output_type": "execute_result"
    },
    {
     "data": {
      "image/png": "[encoded data removed]",
      "text/plain": [
       "<Figure size 640x480 with 1 Axes>"
      ]
     },
     "metadata": {},
     "output_type": "display_data"
    }
   ],
   "source": [
    "data[\"MentalHealthDays\"].hist()"
   ]
  },
  {
   "cell_type": "markdown",
   "metadata": {},
   "source": [
    "The MentalHealthDays column has missing values (2.04%) and is discrete. This column has a high number of zeros, which can be a problem for the model. The number of NAs is not that big, so we can consider removing them."
   ]
  },
  {
   "cell_type": "markdown",
   "metadata": {},
   "source": [
    "## LastCheckupTime"
   ]
  },
  {
   "cell_type": "code",
   "execution_count": 59,
   "metadata": {},
   "outputs": [
    {
     "data": {
      "text/plain": [
       "1.8525434913859675"
      ]
     },
     "execution_count": 59,
     "metadata": {},
     "output_type": "execute_result"
    }
   ],
   "source": [
    "data[\"LastCheckupTime\"].isna().sum() / len(data) * 100"
   ]
  },
  {
   "cell_type": "code",
   "execution_count": 60,
   "metadata": {},
   "outputs": [
    {
     "data": {
      "text/plain": [
       "LastCheckupTime\n",
       "Within past year (anytime less than 12 months ago)         0.804113\n",
       "Within past 2 years (1 year but less than 2 years ago)     0.095620\n",
       "Within past 5 years (2 years but less than 5 years ago)    0.056594\n",
       "5 or more years ago                                        0.043673\n",
       "Name: proportion, dtype: float64"
      ]
     },
     "execution_count": 60,
     "metadata": {},
     "output_type": "execute_result"
    }
   ],
   "source": [
    "data[\"LastCheckupTime\"].value_counts(normalize=True)"
   ]
  },
  {
   "cell_type": "markdown",
   "metadata": {},
   "source": [
    "The LastCheckupTime column has missing values (1.852%) and has 4 unique values. This column is a categorical column. It's poor balanced, with the majority of the values being \"Within past year (anytime less than 12 months ago)\", which can be a problem for the model. The number of NAs is not that big, so we can consider removing them. For some models, it must be transformed into a numerical column."
   ]
  },
  {
   "cell_type": "markdown",
   "metadata": {},
   "source": [
    "## PhysicalActivities"
   ]
  },
  {
   "cell_type": "code",
   "execution_count": 62,
   "metadata": {},
   "outputs": [
    {
     "data": {
      "text/plain": [
       "0.24459078080903107"
      ]
     },
     "execution_count": 62,
     "metadata": {},
     "output_type": "execute_result"
    }
   ],
   "source": [
    "data[\"PhysicalActivities\"].isna().sum() / len(data) * 100"
   ]
  },
  {
   "cell_type": "code",
   "execution_count": 63,
   "metadata": {},
   "outputs": [
    {
     "data": {
      "text/plain": [
       "PhysicalActivities\n",
       "Yes    0.759955\n",
       "No     0.240045\n",
       "Name: proportion, dtype: float64"
      ]
     },
     "execution_count": 63,
     "metadata": {},
     "output_type": "execute_result"
    }
   ],
   "source": [
    "data[\"PhysicalActivities\"].value_counts(normalize=True)"
   ]
  },
  {
   "cell_type": "markdown",
   "metadata": {},
   "source": [
    "The PhysicalActivities column has missing values (0.244%) and is categorical.\n",
    "\n",
    "The number of NAs is not that big, so we can consider removing them.\n",
    "\n",
    "For some models, it must be transformed into a numerical column."
   ]
  },
  {
   "cell_type": "markdown",
   "metadata": {},
   "source": [
    "## SleepHours"
   ]
  },
  {
   "cell_type": "code",
   "execution_count": 64,
   "metadata": {},
   "outputs": [
    {
     "data": {
      "text/plain": [
       "1.2212690077364823"
      ]
     },
     "execution_count": 64,
     "metadata": {},
     "output_type": "execute_result"
    }
   ],
   "source": [
    "data[\"SleepHours\"].isna().sum() / len(data) * 100"
   ]
  },
  {
   "cell_type": "code",
   "execution_count": 65,
   "metadata": {},
   "outputs": [
    {
     "data": {
      "text/plain": [
       "SleepHours\n",
       "7.0     0.302121\n",
       "8.0     0.285098\n",
       "6.0     0.218319\n",
       "5.0     0.068565\n",
       "9.0     0.048107\n",
       "4.0     0.028611\n",
       "10.0    0.023761\n",
       "3.0     0.007360\n",
       "12.0    0.006823\n",
       "2.0     0.003508\n",
       "1.0     0.002652\n",
       "11.0    0.001527\n",
       "15.0    0.000756\n",
       "16.0    0.000748\n",
       "14.0    0.000677\n",
       "13.0    0.000367\n",
       "18.0    0.000361\n",
       "20.0    0.000321\n",
       "24.0    0.000122\n",
       "17.0    0.000063\n",
       "23.0    0.000043\n",
       "19.0    0.000043\n",
       "22.0    0.000040\n",
       "21.0    0.000009\n",
       "Name: proportion, dtype: float64"
      ]
     },
     "execution_count": 65,
     "metadata": {},
     "output_type": "execute_result"
    }
   ],
   "source": [
    "data[\"SleepHours\"].value_counts(normalize=True)"
   ]
  },
  {
   "cell_type": "markdown",
   "metadata": {},
   "source": [
    "The SleepHours column has missing values (1.221%) and is discrete.\n",
    "\n",
    "The number of NAs is not that big, so we can consider removing them.\n",
    "\n",
    "But this column has some values that are not common, like 24 hours of sleep. We must remove these values."
   ]
  },
  {
   "cell_type": "markdown",
   "metadata": {},
   "source": [
    "## RemovedTeeth"
   ]
  },
  {
   "cell_type": "code",
   "execution_count": 66,
   "metadata": {},
   "outputs": [
    {
     "data": {
      "text/plain": [
       "2.5391387371702168"
      ]
     },
     "execution_count": 66,
     "metadata": {},
     "output_type": "execute_result"
    }
   ],
   "source": [
    "data[\"RemovedTeeth\"].isna().sum() / len(data) * 100"
   ]
  },
  {
   "cell_type": "code",
   "execution_count": 67,
   "metadata": {},
   "outputs": [
    {
     "data": {
      "text/plain": [
       "RemovedTeeth\n",
       "None of them              0.538721\n",
       "1 to 5                    0.297568\n",
       "6 or more, but not all    0.105211\n",
       "All                       0.058499\n",
       "Name: proportion, dtype: float64"
      ]
     },
     "execution_count": 67,
     "metadata": {},
     "output_type": "execute_result"
    }
   ],
   "source": [
    "data[\"RemovedTeeth\"].value_counts(normalize=True)"
   ]
  },
  {
   "cell_type": "markdown",
   "metadata": {},
   "source": [
    "The column RemovedTeeth has missing values (2.539%) and is categorical.\n",
    "\n",
    "The number of NAs is not that big, so we can consider removing them.\n",
    "\n",
    "For some models, it must be transformed into a numerical column."
   ]
  },
  {
   "cell_type": "markdown",
   "metadata": {},
   "source": [
    "## HadHeartAttack"
   ]
  },
  {
   "cell_type": "code",
   "execution_count": 70,
   "metadata": {},
   "outputs": [
    {
     "data": {
      "text/plain": [
       "0          No\n",
       "1          No\n",
       "2          No\n",
       "3          No\n",
       "4          No\n",
       "         ... \n",
       "356100     No\n",
       "356101    Yes\n",
       "356102     No\n",
       "356103     No\n",
       "356104     No\n",
       "Name: HadHeartAttack, Length: 356105, dtype: object"
      ]
     },
     "execution_count": 70,
     "metadata": {},
     "output_type": "execute_result"
    }
   ],
   "source": [
    "data[\"HadHeartAttack\"]"
   ]
  },
  {
   "cell_type": "code",
   "execution_count": 68,
   "metadata": {},
   "outputs": [
    {
     "data": {
      "text/plain": [
       "0.694458095224723"
      ]
     },
     "execution_count": 68,
     "metadata": {},
     "output_type": "execute_result"
    }
   ],
   "source": [
    "data[\"HadHeartAttack\"].isna().sum() / len(data) * 100"
   ]
  },
  {
   "cell_type": "code",
   "execution_count": 71,
   "metadata": {},
   "outputs": [
    {
     "data": {
      "text/plain": [
       "HadHeartAttack\n",
       "No     333575\n",
       "Yes     20057\n",
       "Name: count, dtype: int64"
      ]
     },
     "execution_count": 71,
     "metadata": {},
     "output_type": "execute_result"
    }
   ],
   "source": [
    "data[\"HadHeartAttack\"].value_counts()"
   ]
  },
  {
   "cell_type": "markdown",
   "metadata": {},
   "source": [
    "The HadHeartAttack column has missing values (0.69445%) and is categorical.\n",
    "\n",
    "The number of NAs is not that big, so we can consider removing them.\n",
    "\n",
    "For some models, it must be transformed into a numerical column."
   ]
  }
 ],
 "metadata": {
  "kernelspec": {
   "display_name": "mlopszoom",
   "language": "python",
   "name": "python3"
  },
  "language_info": {
   "codemirror_mode": {
    "name": "ipython",
    "version": 3
   },
   "file_extension": ".py",
   "mimetype": "text/x-python",
   "name": "python",
   "nbconvert_exporter": "python",
   "pygments_lexer": "ipython3",
   "version": "3.10.14"
  }
 },
 "nbformat": 4,
 "nbformat_minor": 2
}
